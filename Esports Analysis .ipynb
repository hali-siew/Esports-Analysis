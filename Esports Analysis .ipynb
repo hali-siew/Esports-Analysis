{
 "cells": [
  {
   "cell_type": "code",
   "execution_count": 3,
   "id": "2bb10d4d",
   "metadata": {},
   "outputs": [],
   "source": [
    "#import libraries \n",
    "\n",
    "import pandas as pd\n",
    "import numpy as np\n",
    "import matplotlib.pyplot as plt \n",
    "import seaborn as sns"
   ]
  },
  {
   "cell_type": "code",
   "execution_count": 4,
   "id": "d50fbd6c",
   "metadata": {},
   "outputs": [],
   "source": [
    "#import dataset\n",
    "\n",
    "data_set = pd.read_csv(r\"C:\\Users\\Hali Siew\\Projects\\highest_earning_teams.csv\")"
   ]
  },
  {
   "cell_type": "code",
   "execution_count": 5,
   "id": "40b694ed",
   "metadata": {},
   "outputs": [
    {
     "data": {
      "text/html": [
       "<div>\n",
       "<style scoped>\n",
       "    .dataframe tbody tr th:only-of-type {\n",
       "        vertical-align: middle;\n",
       "    }\n",
       "\n",
       "    .dataframe tbody tr th {\n",
       "        vertical-align: top;\n",
       "    }\n",
       "\n",
       "    .dataframe thead th {\n",
       "        text-align: right;\n",
       "    }\n",
       "</style>\n",
       "<table border=\"1\" class=\"dataframe\">\n",
       "  <thead>\n",
       "    <tr style=\"text-align: right;\">\n",
       "      <th></th>\n",
       "      <th>TeamId</th>\n",
       "      <th>TeamName</th>\n",
       "      <th>TotalUSDPrize</th>\n",
       "      <th>TotalTournaments</th>\n",
       "      <th>Game</th>\n",
       "      <th>Genre</th>\n",
       "    </tr>\n",
       "  </thead>\n",
       "  <tbody>\n",
       "    <tr>\n",
       "      <th>0</th>\n",
       "      <td>760</td>\n",
       "      <td>San Francisco Shock</td>\n",
       "      <td>3105000.0</td>\n",
       "      <td>7</td>\n",
       "      <td>Overwatch</td>\n",
       "      <td>First-Person Shooter</td>\n",
       "    </tr>\n",
       "    <tr>\n",
       "      <th>1</th>\n",
       "      <td>776</td>\n",
       "      <td>London Spitfire</td>\n",
       "      <td>1591136.5</td>\n",
       "      <td>13</td>\n",
       "      <td>Overwatch</td>\n",
       "      <td>First-Person Shooter</td>\n",
       "    </tr>\n",
       "    <tr>\n",
       "      <th>2</th>\n",
       "      <td>768</td>\n",
       "      <td>New York Excelsior</td>\n",
       "      <td>1572618.5</td>\n",
       "      <td>18</td>\n",
       "      <td>Overwatch</td>\n",
       "      <td>First-Person Shooter</td>\n",
       "    </tr>\n",
       "    <tr>\n",
       "      <th>3</th>\n",
       "      <td>773</td>\n",
       "      <td>Philadelphia Fusion</td>\n",
       "      <td>1186278.5</td>\n",
       "      <td>15</td>\n",
       "      <td>Overwatch</td>\n",
       "      <td>First-Person Shooter</td>\n",
       "    </tr>\n",
       "    <tr>\n",
       "      <th>4</th>\n",
       "      <td>766</td>\n",
       "      <td>Seoul Dynasty</td>\n",
       "      <td>1130000.0</td>\n",
       "      <td>6</td>\n",
       "      <td>Overwatch</td>\n",
       "      <td>First-Person Shooter</td>\n",
       "    </tr>\n",
       "    <tr>\n",
       "      <th>...</th>\n",
       "      <td>...</td>\n",
       "      <td>...</td>\n",
       "      <td>...</td>\n",
       "      <td>...</td>\n",
       "      <td>...</td>\n",
       "      <td>...</td>\n",
       "    </tr>\n",
       "    <tr>\n",
       "      <th>923</th>\n",
       "      <td>24781</td>\n",
       "      <td>Rex Regum Qeon</td>\n",
       "      <td>6286.8</td>\n",
       "      <td>2</td>\n",
       "      <td>Arena of Valor</td>\n",
       "      <td>Multiplayer Online Battle Arena</td>\n",
       "    </tr>\n",
       "    <tr>\n",
       "      <th>924</th>\n",
       "      <td>261</td>\n",
       "      <td>Alliance</td>\n",
       "      <td>4000.0</td>\n",
       "      <td>1</td>\n",
       "      <td>Arena of Valor</td>\n",
       "      <td>Multiplayer Online Battle Arena</td>\n",
       "    </tr>\n",
       "    <tr>\n",
       "      <th>925</th>\n",
       "      <td>713</td>\n",
       "      <td>Marines Esports</td>\n",
       "      <td>3429.6</td>\n",
       "      <td>1</td>\n",
       "      <td>Arena of Valor</td>\n",
       "      <td>Multiplayer Online Battle Arena</td>\n",
       "    </tr>\n",
       "    <tr>\n",
       "      <th>926</th>\n",
       "      <td>608</td>\n",
       "      <td>British National Team</td>\n",
       "      <td>2500.0</td>\n",
       "      <td>1</td>\n",
       "      <td>Arena of Valor</td>\n",
       "      <td>Multiplayer Online Battle Arena</td>\n",
       "    </tr>\n",
       "    <tr>\n",
       "      <th>927</th>\n",
       "      <td>584</td>\n",
       "      <td>Swedish National Team</td>\n",
       "      <td>2500.0</td>\n",
       "      <td>1</td>\n",
       "      <td>Arena of Valor</td>\n",
       "      <td>Multiplayer Online Battle Arena</td>\n",
       "    </tr>\n",
       "  </tbody>\n",
       "</table>\n",
       "<p>928 rows × 6 columns</p>\n",
       "</div>"
      ],
      "text/plain": [
       "     TeamId               TeamName  TotalUSDPrize  TotalTournaments  \\\n",
       "0       760    San Francisco Shock      3105000.0                 7   \n",
       "1       776        London Spitfire      1591136.5                13   \n",
       "2       768     New York Excelsior      1572618.5                18   \n",
       "3       773    Philadelphia Fusion      1186278.5                15   \n",
       "4       766          Seoul Dynasty      1130000.0                 6   \n",
       "..      ...                    ...            ...               ...   \n",
       "923   24781         Rex Regum Qeon         6286.8                 2   \n",
       "924     261               Alliance         4000.0                 1   \n",
       "925     713        Marines Esports         3429.6                 1   \n",
       "926     608  British National Team         2500.0                 1   \n",
       "927     584  Swedish National Team         2500.0                 1   \n",
       "\n",
       "               Game                            Genre  \n",
       "0         Overwatch             First-Person Shooter  \n",
       "1         Overwatch             First-Person Shooter  \n",
       "2         Overwatch             First-Person Shooter  \n",
       "3         Overwatch             First-Person Shooter  \n",
       "4         Overwatch             First-Person Shooter  \n",
       "..              ...                              ...  \n",
       "923  Arena of Valor  Multiplayer Online Battle Arena  \n",
       "924  Arena of Valor  Multiplayer Online Battle Arena  \n",
       "925  Arena of Valor  Multiplayer Online Battle Arena  \n",
       "926  Arena of Valor  Multiplayer Online Battle Arena  \n",
       "927  Arena of Valor  Multiplayer Online Battle Arena  \n",
       "\n",
       "[928 rows x 6 columns]"
      ]
     },
     "execution_count": 5,
     "metadata": {},
     "output_type": "execute_result"
    }
   ],
   "source": [
    "#read data\n",
    "\n",
    "data_set"
   ]
  },
  {
   "cell_type": "code",
   "execution_count": 6,
   "id": "5e30b6c1",
   "metadata": {},
   "outputs": [
    {
     "data": {
      "text/html": [
       "<div>\n",
       "<style scoped>\n",
       "    .dataframe tbody tr th:only-of-type {\n",
       "        vertical-align: middle;\n",
       "    }\n",
       "\n",
       "    .dataframe tbody tr th {\n",
       "        vertical-align: top;\n",
       "    }\n",
       "\n",
       "    .dataframe thead th {\n",
       "        text-align: right;\n",
       "    }\n",
       "</style>\n",
       "<table border=\"1\" class=\"dataframe\">\n",
       "  <thead>\n",
       "    <tr style=\"text-align: right;\">\n",
       "      <th></th>\n",
       "      <th>TeamId</th>\n",
       "      <th>TeamName</th>\n",
       "      <th>TotalUSDPrize</th>\n",
       "      <th>TotalTournaments</th>\n",
       "      <th>Game</th>\n",
       "      <th>Genre</th>\n",
       "    </tr>\n",
       "  </thead>\n",
       "  <tbody>\n",
       "    <tr>\n",
       "      <th>0</th>\n",
       "      <td>760</td>\n",
       "      <td>San Francisco Shock</td>\n",
       "      <td>3105000.0</td>\n",
       "      <td>7</td>\n",
       "      <td>Overwatch</td>\n",
       "      <td>First-Person Shooter</td>\n",
       "    </tr>\n",
       "    <tr>\n",
       "      <th>1</th>\n",
       "      <td>776</td>\n",
       "      <td>London Spitfire</td>\n",
       "      <td>1591136.5</td>\n",
       "      <td>13</td>\n",
       "      <td>Overwatch</td>\n",
       "      <td>First-Person Shooter</td>\n",
       "    </tr>\n",
       "    <tr>\n",
       "      <th>2</th>\n",
       "      <td>768</td>\n",
       "      <td>New York Excelsior</td>\n",
       "      <td>1572618.5</td>\n",
       "      <td>18</td>\n",
       "      <td>Overwatch</td>\n",
       "      <td>First-Person Shooter</td>\n",
       "    </tr>\n",
       "    <tr>\n",
       "      <th>3</th>\n",
       "      <td>773</td>\n",
       "      <td>Philadelphia Fusion</td>\n",
       "      <td>1186278.5</td>\n",
       "      <td>15</td>\n",
       "      <td>Overwatch</td>\n",
       "      <td>First-Person Shooter</td>\n",
       "    </tr>\n",
       "    <tr>\n",
       "      <th>4</th>\n",
       "      <td>766</td>\n",
       "      <td>Seoul Dynasty</td>\n",
       "      <td>1130000.0</td>\n",
       "      <td>6</td>\n",
       "      <td>Overwatch</td>\n",
       "      <td>First-Person Shooter</td>\n",
       "    </tr>\n",
       "  </tbody>\n",
       "</table>\n",
       "</div>"
      ],
      "text/plain": [
       "   TeamId             TeamName  TotalUSDPrize  TotalTournaments       Game  \\\n",
       "0     760  San Francisco Shock      3105000.0                 7  Overwatch   \n",
       "1     776      London Spitfire      1591136.5                13  Overwatch   \n",
       "2     768   New York Excelsior      1572618.5                18  Overwatch   \n",
       "3     773  Philadelphia Fusion      1186278.5                15  Overwatch   \n",
       "4     766        Seoul Dynasty      1130000.0                 6  Overwatch   \n",
       "\n",
       "                  Genre  \n",
       "0  First-Person Shooter  \n",
       "1  First-Person Shooter  \n",
       "2  First-Person Shooter  \n",
       "3  First-Person Shooter  \n",
       "4  First-Person Shooter  "
      ]
     },
     "execution_count": 6,
     "metadata": {},
     "output_type": "execute_result"
    }
   ],
   "source": [
    "#Data's head\n",
    "data_set.head()"
   ]
  },
  {
   "cell_type": "code",
   "execution_count": 7,
   "id": "74a05379",
   "metadata": {},
   "outputs": [
    {
     "data": {
      "text/html": [
       "<div>\n",
       "<style scoped>\n",
       "    .dataframe tbody tr th:only-of-type {\n",
       "        vertical-align: middle;\n",
       "    }\n",
       "\n",
       "    .dataframe tbody tr th {\n",
       "        vertical-align: top;\n",
       "    }\n",
       "\n",
       "    .dataframe thead th {\n",
       "        text-align: right;\n",
       "    }\n",
       "</style>\n",
       "<table border=\"1\" class=\"dataframe\">\n",
       "  <thead>\n",
       "    <tr style=\"text-align: right;\">\n",
       "      <th></th>\n",
       "      <th>TeamId</th>\n",
       "      <th>TeamName</th>\n",
       "      <th>TotalUSDPrize</th>\n",
       "      <th>TotalTournaments</th>\n",
       "      <th>Game</th>\n",
       "      <th>Genre</th>\n",
       "    </tr>\n",
       "  </thead>\n",
       "  <tbody>\n",
       "    <tr>\n",
       "      <th>923</th>\n",
       "      <td>24781</td>\n",
       "      <td>Rex Regum Qeon</td>\n",
       "      <td>6286.8</td>\n",
       "      <td>2</td>\n",
       "      <td>Arena of Valor</td>\n",
       "      <td>Multiplayer Online Battle Arena</td>\n",
       "    </tr>\n",
       "    <tr>\n",
       "      <th>924</th>\n",
       "      <td>261</td>\n",
       "      <td>Alliance</td>\n",
       "      <td>4000.0</td>\n",
       "      <td>1</td>\n",
       "      <td>Arena of Valor</td>\n",
       "      <td>Multiplayer Online Battle Arena</td>\n",
       "    </tr>\n",
       "    <tr>\n",
       "      <th>925</th>\n",
       "      <td>713</td>\n",
       "      <td>Marines Esports</td>\n",
       "      <td>3429.6</td>\n",
       "      <td>1</td>\n",
       "      <td>Arena of Valor</td>\n",
       "      <td>Multiplayer Online Battle Arena</td>\n",
       "    </tr>\n",
       "    <tr>\n",
       "      <th>926</th>\n",
       "      <td>608</td>\n",
       "      <td>British National Team</td>\n",
       "      <td>2500.0</td>\n",
       "      <td>1</td>\n",
       "      <td>Arena of Valor</td>\n",
       "      <td>Multiplayer Online Battle Arena</td>\n",
       "    </tr>\n",
       "    <tr>\n",
       "      <th>927</th>\n",
       "      <td>584</td>\n",
       "      <td>Swedish National Team</td>\n",
       "      <td>2500.0</td>\n",
       "      <td>1</td>\n",
       "      <td>Arena of Valor</td>\n",
       "      <td>Multiplayer Online Battle Arena</td>\n",
       "    </tr>\n",
       "  </tbody>\n",
       "</table>\n",
       "</div>"
      ],
      "text/plain": [
       "     TeamId               TeamName  TotalUSDPrize  TotalTournaments  \\\n",
       "923   24781         Rex Regum Qeon         6286.8                 2   \n",
       "924     261               Alliance         4000.0                 1   \n",
       "925     713        Marines Esports         3429.6                 1   \n",
       "926     608  British National Team         2500.0                 1   \n",
       "927     584  Swedish National Team         2500.0                 1   \n",
       "\n",
       "               Game                            Genre  \n",
       "923  Arena of Valor  Multiplayer Online Battle Arena  \n",
       "924  Arena of Valor  Multiplayer Online Battle Arena  \n",
       "925  Arena of Valor  Multiplayer Online Battle Arena  \n",
       "926  Arena of Valor  Multiplayer Online Battle Arena  \n",
       "927  Arena of Valor  Multiplayer Online Battle Arena  "
      ]
     },
     "execution_count": 7,
     "metadata": {},
     "output_type": "execute_result"
    }
   ],
   "source": [
    "#Data's tail\n",
    "data_set.tail()"
   ]
  },
  {
   "cell_type": "code",
   "execution_count": 8,
   "id": "aa5bd6a9",
   "metadata": {},
   "outputs": [
    {
     "data": {
      "text/plain": [
       "(928, 6)"
      ]
     },
     "execution_count": 8,
     "metadata": {},
     "output_type": "execute_result"
    }
   ],
   "source": [
    "#The number of rows and columns \n",
    "data_set.shape"
   ]
  },
  {
   "cell_type": "code",
   "execution_count": 9,
   "id": "7954bc81",
   "metadata": {},
   "outputs": [
    {
     "data": {
      "text/plain": [
       "Index(['TeamId', 'TeamName', 'TotalUSDPrize', 'TotalTournaments', 'Game',\n",
       "       'Genre'],\n",
       "      dtype='object')"
      ]
     },
     "execution_count": 9,
     "metadata": {},
     "output_type": "execute_result"
    }
   ],
   "source": [
    "#Name of all columns \n",
    "data_set.columns"
   ]
  },
  {
   "cell_type": "code",
   "execution_count": 10,
   "id": "d36e0ccc",
   "metadata": {},
   "outputs": [
    {
     "data": {
      "text/plain": [
       "TeamId                int64\n",
       "TeamName             object\n",
       "TotalUSDPrize       float64\n",
       "TotalTournaments      int64\n",
       "Game                 object\n",
       "Genre                object\n",
       "dtype: object"
      ]
     },
     "execution_count": 10,
     "metadata": {},
     "output_type": "execute_result"
    }
   ],
   "source": [
    "#The data type of all columns\n",
    "data_set.dtypes"
   ]
  },
  {
   "cell_type": "code",
   "execution_count": 11,
   "id": "aa17273b",
   "metadata": {},
   "outputs": [
    {
     "name": "stdout",
     "output_type": "stream",
     "text": [
      "<class 'pandas.core.frame.DataFrame'>\n",
      "RangeIndex: 928 entries, 0 to 927\n",
      "Data columns (total 6 columns):\n",
      " #   Column            Non-Null Count  Dtype  \n",
      "---  ------            --------------  -----  \n",
      " 0   TeamId            928 non-null    int64  \n",
      " 1   TeamName          928 non-null    object \n",
      " 2   TotalUSDPrize     928 non-null    float64\n",
      " 3   TotalTournaments  928 non-null    int64  \n",
      " 4   Game              928 non-null    object \n",
      " 5   Genre             928 non-null    object \n",
      "dtypes: float64(1), int64(2), object(3)\n",
      "memory usage: 43.6+ KB\n"
     ]
    }
   ],
   "source": [
    "#Dataset's info\n",
    "data_set.info()"
   ]
  },
  {
   "cell_type": "code",
   "execution_count": 12,
   "id": "5994e2e8",
   "metadata": {},
   "outputs": [
    {
     "data": {
      "text/html": [
       "<div>\n",
       "<style scoped>\n",
       "    .dataframe tbody tr th:only-of-type {\n",
       "        vertical-align: middle;\n",
       "    }\n",
       "\n",
       "    .dataframe tbody tr th {\n",
       "        vertical-align: top;\n",
       "    }\n",
       "\n",
       "    .dataframe thead th {\n",
       "        text-align: right;\n",
       "    }\n",
       "</style>\n",
       "<table border=\"1\" class=\"dataframe\">\n",
       "  <thead>\n",
       "    <tr style=\"text-align: right;\">\n",
       "      <th></th>\n",
       "      <th>TeamId</th>\n",
       "      <th>TeamName</th>\n",
       "      <th>TotalUSDPrize</th>\n",
       "      <th>TotalTournaments</th>\n",
       "      <th>Game</th>\n",
       "      <th>Genre</th>\n",
       "    </tr>\n",
       "  </thead>\n",
       "  <tbody>\n",
       "  </tbody>\n",
       "</table>\n",
       "</div>"
      ],
      "text/plain": [
       "Empty DataFrame\n",
       "Columns: [TeamId, TeamName, TotalUSDPrize, TotalTournaments, Game, Genre]\n",
       "Index: []"
      ]
     },
     "execution_count": 12,
     "metadata": {},
     "output_type": "execute_result"
    }
   ],
   "source": [
    "#Checking for any duplicates \n",
    "data_set[data_set.duplicated()]"
   ]
  },
  {
   "cell_type": "code",
   "execution_count": 13,
   "id": "891d63b1",
   "metadata": {},
   "outputs": [
    {
     "data": {
      "text/plain": [
       "TeamId              0\n",
       "TeamName            0\n",
       "TotalUSDPrize       0\n",
       "TotalTournaments    0\n",
       "Game                0\n",
       "Genre               0\n",
       "dtype: int64"
      ]
     },
     "execution_count": 13,
     "metadata": {},
     "output_type": "execute_result"
    }
   ],
   "source": [
    "#Checking for any null values\n",
    "data_set.isnull().sum()"
   ]
  },
  {
   "cell_type": "code",
   "execution_count": 14,
   "id": "8f6b1caf",
   "metadata": {
    "scrolled": false
   },
   "outputs": [
    {
     "data": {
      "text/plain": [
       "<AxesSubplot:xlabel='TeamName', ylabel='TotalUSDPrize'>"
      ]
     },
     "execution_count": 14,
     "metadata": {},
     "output_type": "execute_result"
    },
    {
     "data": {
      "image/png": "[encoded data removed]",
      "text/plain": [
       "<Figure size 1000x500 with 1 Axes>"
      ]
     },
     "metadata": {},
     "output_type": "display_data"
    }
   ],
   "source": [
    "#Finding the team who won the most \n",
    "\n",
    "fig, ax = plt.subplots(figsize = (10,5))\n",
    "data = data_set.nlargest(5, 'TotalUSDPrize')\n",
    "sns.barplot(x='TeamName', y= 'TotalUSDPrize', ax=ax, data=data)"
   ]
  },
  {
   "cell_type": "code",
   "execution_count": 77,
   "id": "e44b6621",
   "metadata": {},
   "outputs": [
    {
     "data": {
      "text/html": [
       "<div>\n",
       "<style scoped>\n",
       "    .dataframe tbody tr th:only-of-type {\n",
       "        vertical-align: middle;\n",
       "    }\n",
       "\n",
       "    .dataframe tbody tr th {\n",
       "        vertical-align: top;\n",
       "    }\n",
       "\n",
       "    .dataframe thead th {\n",
       "        text-align: right;\n",
       "    }\n",
       "</style>\n",
       "<table border=\"1\" class=\"dataframe\">\n",
       "  <thead>\n",
       "    <tr style=\"text-align: right;\">\n",
       "      <th></th>\n",
       "      <th>Game</th>\n",
       "      <th>TotalUSDPrize</th>\n",
       "    </tr>\n",
       "  </thead>\n",
       "  <tbody>\n",
       "    <tr>\n",
       "      <th>2</th>\n",
       "      <td>Dota 2</td>\n",
       "      <td>220282764.57</td>\n",
       "    </tr>\n",
       "    <tr>\n",
       "      <th>1</th>\n",
       "      <td>Counter-Strike: Global Offensive</td>\n",
       "      <td>84853934.16</td>\n",
       "    </tr>\n",
       "    <tr>\n",
       "      <th>6</th>\n",
       "      <td>League of Legends</td>\n",
       "      <td>64665560.92</td>\n",
       "    </tr>\n",
       "    <tr>\n",
       "      <th>3</th>\n",
       "      <td>Fortnite</td>\n",
       "      <td>34661332.81</td>\n",
       "    </tr>\n",
       "    <tr>\n",
       "      <th>9</th>\n",
       "      <td>Starcraft II</td>\n",
       "      <td>27856145.24</td>\n",
       "    </tr>\n",
       "    <tr>\n",
       "      <th>7</th>\n",
       "      <td>Overwatch</td>\n",
       "      <td>20465267.66</td>\n",
       "    </tr>\n",
       "    <tr>\n",
       "      <th>8</th>\n",
       "      <td>PUBG</td>\n",
       "      <td>16715000.28</td>\n",
       "    </tr>\n",
       "    <tr>\n",
       "      <th>4</th>\n",
       "      <td>Hearthstone</td>\n",
       "      <td>10864526.98</td>\n",
       "    </tr>\n",
       "    <tr>\n",
       "      <th>5</th>\n",
       "      <td>Heroes of the Storm</td>\n",
       "      <td>10710522.66</td>\n",
       "    </tr>\n",
       "    <tr>\n",
       "      <th>0</th>\n",
       "      <td>Arena of Valor</td>\n",
       "      <td>9969148.62</td>\n",
       "    </tr>\n",
       "  </tbody>\n",
       "</table>\n",
       "</div>"
      ],
      "text/plain": [
       "                               Game  TotalUSDPrize\n",
       "2                            Dota 2   220282764.57\n",
       "1  Counter-Strike: Global Offensive    84853934.16\n",
       "6                 League of Legends    64665560.92\n",
       "3                          Fortnite    34661332.81\n",
       "9                      Starcraft II    27856145.24\n",
       "7                         Overwatch    20465267.66\n",
       "8                              PUBG    16715000.28\n",
       "4                       Hearthstone    10864526.98\n",
       "5               Heroes of the Storm    10710522.66\n",
       "0                    Arena of Valor     9969148.62"
      ]
     },
     "execution_count": 77,
     "metadata": {},
     "output_type": "execute_result"
    }
   ],
   "source": [
    "#Find the sum of each game's tournament\n",
    "df = pd.DataFrame(data_set)\n",
    "pd.options.display.float_format = '{:.2f}'.format\n",
    "prize_money = df.groupby('Game')['TotalUSDPrize'].sum().reset_index()\n",
    "prize_money = prize_money.sort_values(by='TotalUSDPrize', ascending=False)\n",
    "prize_money"
   ]
  },
  {
   "cell_type": "code",
   "execution_count": 92,
   "id": "6ba1fe09",
   "metadata": {},
   "outputs": [
    {
     "data": {
      "image/png": "[encoded data removed]",
      "text/plain": [
       "<Figure size 2000x500 with 1 Axes>"
      ]
     },
     "metadata": {},
     "output_type": "display_data"
    }
   ],
   "source": [
    "#Rename Counter-Strike: Global Offensive to CSGO for better formatting\n",
    "prize_money['Game'] = prize_money['Game'].replace('Counter-Strike: Global Offensive', 'CSGO')\n",
    "\n",
    "#Plotting\n",
    "fig,ax = plt.subplots(figsize=(20, 5))\n",
    "labels = prize_money['Game']\n",
    "prizes = prize_money['TotalUSDPrize'].sort_values(ascending=False)\n",
    "plt.bar(labels, height = prizes)\n",
    "plt.show()"
   ]
  },
  {
   "cell_type": "code",
   "execution_count": 80,
   "id": "813507bd",
   "metadata": {},
   "outputs": [
    {
     "data": {
      "text/html": [
       "<div>\n",
       "<style scoped>\n",
       "    .dataframe tbody tr th:only-of-type {\n",
       "        vertical-align: middle;\n",
       "    }\n",
       "\n",
       "    .dataframe tbody tr th {\n",
       "        vertical-align: top;\n",
       "    }\n",
       "\n",
       "    .dataframe thead th {\n",
       "        text-align: right;\n",
       "    }\n",
       "</style>\n",
       "<table border=\"1\" class=\"dataframe\">\n",
       "  <thead>\n",
       "    <tr style=\"text-align: right;\">\n",
       "      <th></th>\n",
       "      <th>Game</th>\n",
       "      <th>TotalTournaments</th>\n",
       "    </tr>\n",
       "  </thead>\n",
       "  <tbody>\n",
       "    <tr>\n",
       "      <th>9</th>\n",
       "      <td>Starcraft II</td>\n",
       "      <td>12676</td>\n",
       "    </tr>\n",
       "    <tr>\n",
       "      <th>1</th>\n",
       "      <td>Counter-Strike: Global Offensive</td>\n",
       "      <td>5996</td>\n",
       "    </tr>\n",
       "    <tr>\n",
       "      <th>2</th>\n",
       "      <td>Dota 2</td>\n",
       "      <td>2931</td>\n",
       "    </tr>\n",
       "    <tr>\n",
       "      <th>6</th>\n",
       "      <td>League of Legends</td>\n",
       "      <td>2515</td>\n",
       "    </tr>\n",
       "    <tr>\n",
       "      <th>5</th>\n",
       "      <td>Heroes of the Storm</td>\n",
       "      <td>1663</td>\n",
       "    </tr>\n",
       "    <tr>\n",
       "      <th>3</th>\n",
       "      <td>Fortnite</td>\n",
       "      <td>1229</td>\n",
       "    </tr>\n",
       "    <tr>\n",
       "      <th>8</th>\n",
       "      <td>PUBG</td>\n",
       "      <td>828</td>\n",
       "    </tr>\n",
       "    <tr>\n",
       "      <th>7</th>\n",
       "      <td>Overwatch</td>\n",
       "      <td>772</td>\n",
       "    </tr>\n",
       "    <tr>\n",
       "      <th>4</th>\n",
       "      <td>Hearthstone</td>\n",
       "      <td>662</td>\n",
       "    </tr>\n",
       "    <tr>\n",
       "      <th>0</th>\n",
       "      <td>Arena of Valor</td>\n",
       "      <td>142</td>\n",
       "    </tr>\n",
       "  </tbody>\n",
       "</table>\n",
       "</div>"
      ],
      "text/plain": [
       "                               Game  TotalTournaments\n",
       "9                      Starcraft II             12676\n",
       "1  Counter-Strike: Global Offensive              5996\n",
       "2                            Dota 2              2931\n",
       "6                 League of Legends              2515\n",
       "5               Heroes of the Storm              1663\n",
       "3                          Fortnite              1229\n",
       "8                              PUBG               828\n",
       "7                         Overwatch               772\n",
       "4                       Hearthstone               662\n",
       "0                    Arena of Valor               142"
      ]
     },
     "execution_count": 80,
     "metadata": {},
     "output_type": "execute_result"
    }
   ],
   "source": [
    "#Total number of tournament per game \n",
    "\n",
    "game_total = df.groupby('Game')['TotalTournaments'].sum().reset_index()\n",
    "game_total = game_total.sort_values(by='TotalTournaments', ascending =False)\n",
    "game_total"
   ]
  },
  {
   "cell_type": "code",
   "execution_count": 88,
   "id": "d25d334e",
   "metadata": {},
   "outputs": [
    {
     "data": {
      "image/png": "[encoded data removed]",
      "text/plain": [
       "<Figure size 2000x500 with 1 Axes>"
      ]
     },
     "metadata": {},
     "output_type": "display_data"
    }
   ],
   "source": [
    "#Rename for better formatting \n",
    "game_total['Game'] = game_total['Game'].replace('Counter-Strike: Global Offensive', 'CSGO')\n",
    "\n",
    "#Plotting \n",
    "fig, ax = plt.subplots(figsize=(20,5))\n",
    "labels = game_total['Game']\n",
    "total = game_total['TotalTournaments']\n",
    "plt.bar(labels,height = total)\n",
    "plt.show()"
   ]
  },
  {
   "cell_type": "code",
   "execution_count": null,
   "id": "63a889bc",
   "metadata": {},
   "outputs": [],
   "source": []
  }
 ],
 "metadata": {
  "kernelspec": {
   "display_name": "Python 3 (ipykernel)",
   "language": "python",
   "name": "python3"
  },
  "language_info": {
   "codemirror_mode": {
    "name": "ipython",
    "version": 3
   },
   "file_extension": ".py",
   "mimetype": "text/x-python",
   "name": "python",
   "nbconvert_exporter": "python",
   "pygments_lexer": "ipython3",
   "version": "3.7.9"
  }
 },
 "nbformat": 4,
 "nbformat_minor": 5
}
